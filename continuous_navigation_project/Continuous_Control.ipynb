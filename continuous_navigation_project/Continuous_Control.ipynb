{
 "cells": [
  {
   "cell_type": "markdown",
   "metadata": {},
   "source": [
    "# Continuous Control\n",
    "\n",
    "---\n",
    "\n",
    "This notebook runs a deep reinforcement learning agent (particularly a DDPG agent) to solve Udacity's DRLND Continuous Control project (project 2).\n",
    "### 0. Get Prepared\n",
    "Follow these instructions if you are working locally (you want to setup a Jupyter Notebook locally).\n",
    " Otherwise skip to Section 1.\n",
    "\n",
    "#### 0.1 Setup the right Python version\n",
    "Use Python 3.6. You may want to either use a virtual env or setup a Conda environment as explained here:\n",
    "\n",
    "https://github.com/udacity/deep-reinforcement-learning#dependencies\n",
    "\n",
    "#### 0.2 Get the python dependencies requirements.txt\n",
    "Checkout the ./python folder of the Udacity DRLND repo:\n",
    "\n",
    "https://github.com/udacity/deep-reinforcement-learning\n",
    "\n",
    "It has a requirements.txt to ensure installing the necessary dependencies in the version specified by the course\n",
    "(do this only when you want to work locally). Otherwise use the reference notebook provided by the course which is pre setup properly.\n",
    "\n",
    "#### 0.3 Get the Pre-built Unity Environment\n",
    "Since this is an RL problem an environment is needed.\n",
    "The course requires you to use the pre-built environment.\n",
    "Get the right version for you from the link provided in the (README)[Reacher_Twenty_Linux_No_Vis/]\n",
    "\n",
    "#### 0.4 Install Dependencies\n",
    "\n",
    "Run the next code cell to install a few packages.  This line will take a few minutes to run!\n",
    "\n",
    "Make sure you have the python folder with the right requirements.txt. See Section 0."
   ]
  },
  {
   "cell_type": "code",
   "execution_count": 1,
   "metadata": {
    "pycharm": {
     "name": "#%%\n"
    }
   },
   "outputs": [],
   "source": [
    "import os\n",
    "deps_dir=\"./\"\n",
    "deps_file=os.path.join(deps_dir,\"requirements.txt\")\n",
    "if os.path.exists(deps_file):\n",
    "    !pip -q install -r $deps_file\n",
    "else:\n",
    "    print(\"Could not locate requirements.txt. Check section 0\")"
   ]
  },
  {
   "cell_type": "markdown",
   "metadata": {},
   "source": [
    "### 1. Explore the Environment\n",
    "<span style=\"color:red\">WARNING: DON'T EXECUTE THIS CELL IF YOU WILL ACTUALLY USE THE ENV FOR TRAINING BELOW. The provided unity env is buggy and training simply fails. You would need to restart the Kernel.</span>.\n",
    "\n",
    "In the following you get the chance to load the environment to:\n",
    "\n",
    "In the next code cells, you will learn how to use the Python API to control the agent and receive feedback from the environment.\n",
    "\n",
    "- make sure you can load it at all\n",
    "- explore its characteristics"
   ]
  },
  {
   "cell_type": "markdown",
   "metadata": {
    "pycharm": {
     "name": "#%% md\n"
    }
   },
   "source": [
    "#### 1.1 Explore Characteristcs"
   ]
  },
  {
   "cell_type": "code",
   "execution_count": null,
   "outputs": [],
   "source": [
    "from unityagents import UnityEnvironment\n",
    "import numpy as np\n",
    "\n",
    "# select this option to load version 1 (with a single agent) of the environment\n",
    "# env = UnityEnvironment(file_name='Reacher_One_Linux_NoVis/Reacher.x86_64')\n",
    "\n",
    "# select this option to load version 2 (with 20 agents) of the environment\n",
    "env = UnityEnvironment(file_name='Reacher_Twenty_Linux_NoVis/Reacher.x86_64')"
   ],
   "metadata": {
    "collapsed": false,
    "pycharm": {
     "name": "#%%\n"
    }
   }
  },
  {
   "cell_type": "code",
   "execution_count": null,
   "metadata": {
    "pycharm": {
     "name": "#%%\n"
    }
   },
   "outputs": [],
   "source": [
    "# get the default brain\n",
    "brain_name = env.brain_names[0]\n",
    "brain = env.brains[brain_name]\n",
    "\n",
    "# reset the environment\n",
    "env_info = env.reset(train_mode=True)[brain_name]\n",
    "\n",
    "# number of agents\n",
    "num_agents = len(env_info.agents)\n",
    "print('Number of agents:', num_agents)\n",
    "\n",
    "# size of each action\n",
    "action_size = brain.vector_action_space_size\n",
    "print('Size of each action:', action_size)\n",
    "\n",
    "# examine the state space \n",
    "states = env_info.vector_observations\n",
    "state_size = states.shape[1]\n",
    "print('There are {} agents. Each observes a state with length: {}'.format(states.shape[0], state_size))\n",
    "print('The state for the first agent looks like:', states[0])"
   ]
  },
  {
   "cell_type": "markdown",
   "metadata": {
    "pycharm": {
     "name": "#%% md\n"
    }
   },
   "source": [
    "#### 1.2 Take Random Actions in the Environment\n",
    "\n",
    "Note that **in this coding environment, you will not be able to watch the agent while it is training**, and you should set `train_mode=True` to restart the environment."
   ]
  },
  {
   "cell_type": "code",
   "execution_count": null,
   "outputs": [],
   "source": [
    "env_info = env.reset(train_mode=True)[brain_name]      # reset the environment\n",
    "states = env_info.vector_observations                  # get the current state (for each agent)\n",
    "scores = np.zeros(num_agents)                          # initialize the score (for each agent)\n",
    "while True:\n",
    "    actions = np.random.randn(num_agents, action_size) # select an action (for each agent)\n",
    "    actions = np.clip(actions, -1, 1)                  # all actions between -1 and 1\n",
    "    env_info = env.step(actions)[brain_name]           # send all actions to tne environment\n",
    "    next_states = env_info.vector_observations         # get next state (for each agent)\n",
    "    rewards = env_info.rewards                         # get reward (for each agent)\n",
    "    dones = env_info.local_done                        # see if episode finished\n",
    "    scores += env_info.rewards                         # update the score (for each agent)\n",
    "    states = next_states                               # roll over states to next time step\n",
    "    if np.any(dones):                                  # exit loop if episode finished\n",
    "        break\n",
    "print('Total score (averaged over agents) this episode: {}'.format(np.mean(scores)))\n"
   ],
   "metadata": {
    "collapsed": false,
    "pycharm": {
     "name": "#%%\n"
    }
   }
  },
  {
   "cell_type": "markdown",
   "metadata": {
    "pycharm": {
     "name": "#%% md\n"
    }
   },
   "source": [
    "### 2. Training a DDPG Agent to Solve the Challenge\n",
    "\n",
    "As you can see above a purely random agent performs - as expected - very poorly.\n",
    "Let's train a clever agent that can susbstantially outperform it.\n",
    "Important notes:\n",
    "- When training the environment, set `train_mode=True`, so that the line for resetting the environment looks like the following:\n",
    "```python\n",
    "env_info = env.reset(train_mode=True)[brain_name]\n",
    "```\n",
    "- In this coding environment, you will not be able to watch the agents while they are training.  However, **_after training the agents_**, you can download the saved model weights to watch the agents on your own machine!"
   ]
  },
  {
   "cell_type": "code",
   "execution_count": null,
   "metadata": {
    "pycharm": {
     "name": "#%%\n",
     "is_executing": true
    }
   },
   "outputs": [
    {
     "name": "stderr",
     "output_type": "stream",
     "text": [
      "INFO:unityagents:\n",
      "'Academy' started successfully!\n",
      "Unity Academy name: Academy\n",
      "        Number of Brains: 1\n",
      "        Number of External Brains : 1\n",
      "        Lesson number : 0\n",
      "        Reset Parameters :\n",
      "\t\tgoal_size -> 5.0\n",
      "\t\tgoal_speed -> 1.0\n",
      "Unity brain name: ReacherBrain\n",
      "        Number of Visual Observations (per agent): 0\n",
      "        Vector Observation space type: continuous\n",
      "        Vector Observation space size (per agent): 33\n",
      "        Number of stacked Vector Observation: 1\n",
      "        Vector Action space type: continuous\n",
      "        Vector Action space size (per agent): 4\n",
      "        Vector Action descriptions: , , , \n",
      "/home/q409893/work/tools/miniconda3/envs/udacity/lib/python3.6/site-packages/torch/nn/functional.py:995: UserWarning: nn.functional.tanh is deprecated. Use torch.tanh instead.\n",
      "  warnings.warn(\"nn.functional.tanh is deprecated. Use torch.tanh instead.\")\n"
     ]
    },
    {
     "name": "stdout",
     "output_type": "stream",
     "text": [
      "\n",
      "\n",
      "---------------------\n",
      "Environment successfully started\n",
      "Number of agents: 20\n",
      "Size of each action: 4\n",
      "There are 20 agents. Each observes a state with length: 33\n",
      "The state for the first agent looks like: [ 0.00000000e+00 -4.00000000e+00  0.00000000e+00  1.00000000e+00\n",
      " -0.00000000e+00 -0.00000000e+00 -4.37113883e-08  0.00000000e+00\n",
      "  0.00000000e+00  0.00000000e+00  0.00000000e+00  0.00000000e+00\n",
      "  0.00000000e+00  0.00000000e+00 -1.00000000e+01  0.00000000e+00\n",
      "  1.00000000e+00 -0.00000000e+00 -0.00000000e+00 -4.37113883e-08\n",
      "  0.00000000e+00  0.00000000e+00  0.00000000e+00  0.00000000e+00\n",
      "  0.00000000e+00  0.00000000e+00  5.75471878e+00 -1.00000000e+00\n",
      "  5.55726624e+00  0.00000000e+00  1.00000000e+00  0.00000000e+00\n",
      " -1.68164849e-01]\n",
      "--------------------------------------------------------------\n",
      "device used: cuda:0\n",
      "--------------------------------------------------------------\n",
      "Episode 2\tMean (over agents) episode score: 0.45. Duration: 6.7s"
     ]
    }
   ],
   "source": [
    "from continuous_navigation_project import state_size, action_size, num_agents\n",
    "from continuous_navigation_project.agent import Agent\n",
    "from continuous_navigation_project.ddpg import ddpg\n",
    "agent = Agent(state_size=state_size, action_size=action_size, random_seed=2, num_parallel_agents=num_agents,\n",
    "              num_trainings_per_update=20,\n",
    "              time_steps_before_training=20,\n",
    "              batch_size=128,\n",
    "              num_episodes_to_increase_num_trainings=3,\n",
    "              lr_actor=1e-4,\n",
    "              lr_critic=1e-4,\n",
    "              make_local_target_weights_equal_at_init=True,\n",
    "              clip_grad_norm=False)\n",
    "\n",
    "episodes_to_make_target_equal_to_local = 5\n",
    "max_timesteps_per_episode = 1000\n",
    "scores_global, episode_durations = ddpg(agent=agent,\n",
    "                                        n_episodes=130,\n",
    "                                        max_t=max_timesteps_per_episode,\n",
    "                                        print_every=20,\n",
    "                                        episodes_to_make_target_equal_to_local=episodes_to_make_target_equal_to_local)\n"
   ]
  },
  {
   "cell_type": "code",
   "execution_count": null,
   "outputs": [],
   "source": [
    "env.close()"
   ],
   "metadata": {
    "collapsed": false,
    "pycharm": {
     "name": "#%%\n"
    }
   }
  },
  {
   "cell_type": "code",
   "execution_count": null,
   "outputs": [],
   "source": [],
   "metadata": {
    "collapsed": false,
    "pycharm": {
     "name": "#%%\n"
    }
   }
  }
 ],
 "metadata": {
  "kernelspec": {
   "display_name": "drlnd",
   "language": "python",
   "name": "drlnd"
  },
  "language_info": {
   "codemirror_mode": {
    "name": "ipython",
    "version": 3
   },
   "file_extension": ".py",
   "mimetype": "text/x-python",
   "name": "python",
   "nbconvert_exporter": "python",
   "pygments_lexer": "ipython3",
   "version": "3.6.13"
  }
 },
 "nbformat": 4,
 "nbformat_minor": 2
}