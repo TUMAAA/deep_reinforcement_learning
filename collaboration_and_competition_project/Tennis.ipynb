{
 "cells": [
  {
   "cell_type": "markdown",
   "metadata": {},
   "source": [
    "# Collaboration and Competition\n",
    "\n",
    "---\n",
    "\n",
    "In this notebook, we use the Unity ML-Agents environment for the third project of the [Deep Reinforcement Learning Nanodegree](https://www.udacity.com/course/deep-reinforcement-learning-nanodegree--nd893) program.\n",
    "\n",
    "### 0. Get Prepared\n",
    "Follow these instructions if you are working locally (you want to setup a Jupyter Notebook locally).\n",
    " Otherwise skip to Section 1.\n",
    "\n",
    "#### 0.1 Setup the right Python version\n",
    "Use Python 3.6. You may want to either use a virtual env or setup a Conda environment as explained [here](https://github.com/udacity/deep-reinforcement-learning#dependencies)\n",
    "\n",
    "#### 0.2 Get the python dependencies requirements.txt\n",
    "Checkout the ./python folder of the Udacity DRLND repo:\n",
    "\n",
    "https://github.com/udacity/deep-reinforcement-learning\n",
    "\n",
    "It has a requirements.txt to ensure installing the necessary dependencies in the version specified by the course\n",
    "(do this only when you want to work locally). Otherwise use the reference notebook provided by the course which is pre setup properly.\n",
    "\n",
    "#### 0.3 Get the Pre-built Unity Environment\n",
    "Since this is an RL problem an environment is needed.\n",
    "The course requires you to use the pre-built environment.\n",
    "Get the right version for you from the link provided in Tennis_Linux_No_Vis/README\n",
    "\n",
    "#### 0.4 Install Dependencies\n",
    "\n",
    "Run the next code cell to install a few packages.  This line will take a few minutes to run!\n",
    "\n",
    "Make sure you have the python folder with the right requirements.txt. See Section 0."
   ]
  },
  {
   "cell_type": "code",
   "execution_count": null,
   "outputs": [],
   "source": [
    "import os\n",
    "deps_dir=\"./\"\n",
    "deps_file=os.path.join(deps_dir,\"requirements.txt\")\n",
    "if os.path.exists(deps_file):\n",
    "    !pip -q install -r $deps_file\n",
    "else:\n",
    "    print(\"Could not locate requirements.txt. Check section 0\")"
   ],
   "metadata": {
    "collapsed": false,
    "pycharm": {
     "name": "#%%\n"
    }
   }
  },
  {
   "cell_type": "markdown",
   "source": [
    "### 1. Explore the Environment\n",
    "<span style=\"color:red\">WARNING: DON'T EXECUTE THIS CELL IF YOU WILL ACTUALLY USE THE ENV FOR TRAINING BELOW. The provided unity env is buggy and training simply fails. You would need to restart the Kernel.</span>.\n",
    "\n",
    "In the following you get the chance to load the environment to:\n",
    "\n",
    "In the next code cells, you will learn how to use the Python API to control the agent and receive feedback from the environment.\n",
    "\n",
    "- make sure you can load it at all\n",
    "- explore its characteristics"
   ],
   "metadata": {
    "collapsed": false
   }
  },
  {
   "cell_type": "markdown",
   "source": [
    "#### 1.1 Explore Characteristcs"
   ],
   "metadata": {
    "collapsed": false,
    "pycharm": {
     "name": "#%% md\n"
    }
   }
  },
  {
   "cell_type": "code",
   "execution_count": null,
   "metadata": {},
   "outputs": [],
   "source": [
    "from unityagents import UnityEnvironment\n",
    "import numpy as np\n",
    "\n",
    "# select this option to load version 1 (with a single agent) of the environment\n",
    "# env = UnityEnvironment(file_name='Reacher_One_Linux_NoVis/Reacher.x86_64')\n",
    "\n",
    "# select this option to load version 2 (with 20 agents) of the environment\n",
    "env = UnityEnvironment(file_name='Tennis_Linux_NoVis/Tennis.x86_64')"
   ]
  },
  {
   "cell_type": "code",
   "metadata": {
    "pycharm": {
     "name": "#%%\n"
    }
   },
   "source": [
    "# get the default brain\n",
    "brain_name = env.brain_names[0]\n",
    "brain = env.brains[brain_name]\n",
    "\n",
    "# reset the environment\n",
    "env_info = env.reset(train_mode=True)[brain_name]\n",
    "\n",
    "# number of agents\n",
    "num_agents = len(env_info.agents)\n",
    "print('Number of agents:', num_agents)\n",
    "\n",
    "# size of each action\n",
    "action_size = brain.vector_action_space_size\n",
    "print('Size of each action:', action_size)\n",
    "\n",
    "# examine the state space\n",
    "states = env_info.vector_observations\n",
    "state_size = states.shape[1]\n",
    "print('There are {} agents. Each observes a state with length: {}'.format(states.shape[0], state_size))\n",
    "print('The state for the first agent looks like:', states[0])"
   ],
   "execution_count": null,
   "outputs": []
  },
  {
   "cell_type": "markdown",
   "metadata": {
    "pycharm": {
     "name": "#%% md\n"
    }
   },
   "source": [
    "#### 1.2 Take Random Actions in the Environment\n",
    "\n",
    "Note that **in this coding environment, you will not be able to watch the agent while it is training**, and you should set `train_mode=True` to restart the environment."
   ]
  },
  {
   "cell_type": "code",
   "execution_count": null,
   "metadata": {},
   "outputs": [],
   "source": [
    "for i in range(1, 6):                                      # play game for 5 episodes\n",
    "    env_info = env.reset(train_mode=False)[brain_name]     # reset the environment    \n",
    "    states = env_info.vector_observations                  # get the current state (for each agent)\n",
    "    scores = np.zeros(num_agents)                          # initialize the score (for each agent)\n",
    "    while True:\n",
    "        actions = np.random.randn(num_agents, action_size) # select an action (for each agent)\n",
    "        actions = np.clip(actions, -1, 1)                  # all actions between -1 and 1\n",
    "        env_info = env.step(actions)[brain_name]           # send all actions to tne environment\n",
    "        next_states = env_info.vector_observations         # get next state (for each agent)\n",
    "        rewards = env_info.rewards                         # get reward (for each agent)\n",
    "        dones = env_info.local_done                        # see if episode finished\n",
    "        scores += env_info.rewards                         # update the score (for each agent)\n",
    "        states = next_states                               # roll over states to next time step\n",
    "        if np.any(dones):                                  # exit loop if episode finished\n",
    "            break\n",
    "    print('Score (max over agents) from episode {}: {}'.format(i, np.max(scores)))"
   ]
  },
  {
   "cell_type": "markdown",
   "metadata": {},
   "source": [
    "When finished, you can close the environment."
   ]
  },
  {
   "cell_type": "code",
   "execution_count": null,
   "metadata": {},
   "outputs": [],
   "source": [
    "env.close()"
   ]
  },
  {
   "cell_type": "markdown",
   "metadata": {},
   "source": [
    "### 2. Training an MADDPG Agent to Solve the Challenge\n",
    "\n",
    "As you can see above a purely random agent performs - as expected - very poorly.\n",
    "Let's train a clever agent that can susbstantially outperform it.\n",
    "Important notes:\n",
    "- When training the environment, set `train_mode=True`, so that the line for resetting the environment looks like the following:\n",
    "```python\n",
    "env_info = env.reset(train_mode=True)[brain_name]\n",
    "```\n",
    "- In this coding environment, you will not be able to watch the agents while they are training.  However, **_after training the agents_**, you can download the saved model weights to watch the agents on your own machine!"
   ]
  },
  {
   "cell_type": "code",
   "execution_count": null,
   "outputs": [],
   "source": [
    "from collaboration_and_competition_project.ReplayBuffer import ReplayBuffer\n",
    "from collaboration_and_competition_project.helpers import generate_training_plots\n",
    "\n",
    "BUFFER_SIZE = int(1e5)  # replay buffer size # TODO: check value\n",
    "\n",
    "from collaboration_and_competition_project import state_size, action_size, num_agents, device\n",
    "from collaboration_and_competition_project.agent import Agent\n",
    "from collaboration_and_competition_project.maddpg import run_maddpg\n",
    "\n",
    "batch_size = 512\n",
    "\n",
    "replay_buffer = ReplayBuffer(action_size=action_size,\n",
    "                             buffer_size=BUFFER_SIZE,\n",
    "                             batch_size=batch_size,\n",
    "                             random_seed=2,\n",
    "                             num_collaborating_agents=num_agents,\n",
    "                             device=device)\n",
    "\n",
    "agent = Agent(device=device,\n",
    "              state_size=state_size, action_size=action_size, random_seed=2, num_competing_agents=num_agents,\n",
    "              num_trainings_per_update=2,\n",
    "              time_steps_before_training=5,\n",
    "              batch_size=batch_size,\n",
    "              num_episodes_to_increase_num_trainings=500,\n",
    "              lr_actor=1e-3,\n",
    "              lr_critic=1e-3,\n",
    "              clip_grad_norm=True,\n",
    "              weight_decay= 0.0001,\n",
    "              start_noise_variance = 1.0,\n",
    "              replay_buffer=replay_buffer,\n",
    "              add_samples_only_if_high_reward=False,\n",
    "              debug=False)\n",
    "\n",
    "episodes_to_make_target_equal_to_local = 200\n",
    "max_timesteps_per_episode = 500\n",
    "\n",
    "scores_global, episode_durations, episode_timestep_reached = run_maddpg(agent=agent,\n",
    "                                        n_episodes=1500,\n",
    "                                        max_t=max_timesteps_per_episode,\n",
    "                                        print_every=20,\n",
    "                                        episodes_to_make_target_equal_to_local=episodes_to_make_target_equal_to_local)\n",
    "\n",
    "details_dict = {\"critic\": agent.critics_local[0].__repr__(),\n",
    "                 \"actor\": agent.actors_local[0].__repr__(),\n",
    "                 \"critic_optim\": agent.critic_optimizers[0].__repr__().replace(\"\\n\", \", \"),\n",
    "                 \"actor_optim\": agent.actor_optimizers[0].__repr__().replace(\"\\n\", \", \"),\n",
    "                 \"clip_grad_norm\": agent.clip_grad_norm,\n",
    "                 \"batch_size\": agent.batch_size,\n",
    "                 \"max_t\": episodes_to_make_target_equal_to_local,\n",
    "                 \"time_steps_before_training\": agent.time_steps_before_training,\n",
    "                 \"num_trainings_per_update\": agent.num_trainings_per_update,\n",
    "                 \"num_episodes_to_increase_num_trainings\": agent.num_episodes_to_increase_num_trainings,\n",
    "                 \"start_noise_variance\": agent.start_noise_variance,\n",
    "                 \"noise_decay\": agent.noise_decay,\n",
    "                 \"add_samples_only_if_high_reward\": agent.add_samples_only_if_high_reward,\n",
    "                 \"episodes_to_make_target_equal_to_local\": episodes_to_make_target_equal_to_local\n",
    "                 }\n",
    "generate_training_plots(scores_global, episode_durations, episode_timestep_reached,\n",
    "                        details_dict)"
   ],
   "metadata": {
    "collapsed": false,
    "pycharm": {
     "name": "#%%\n"
    }
   }
  },
  {
   "cell_type": "code",
   "execution_count": null,
   "outputs": [],
   "source": [],
   "metadata": {
    "collapsed": false,
    "pycharm": {
     "name": "#%%\n"
    }
   }
  },
  {
   "cell_type": "code",
   "execution_count": null,
   "outputs": [],
   "source": [],
   "metadata": {
    "collapsed": false,
    "pycharm": {
     "name": "#%%\n"
    }
   }
  },
  {
   "cell_type": "code",
   "execution_count": null,
   "outputs": [],
   "source": [],
   "metadata": {
    "collapsed": false,
    "pycharm": {
     "name": "#%%\n"
    }
   }
  },
  {
   "cell_type": "code",
   "execution_count": null,
   "outputs": [],
   "source": [],
   "metadata": {
    "collapsed": false,
    "pycharm": {
     "name": "#%%\n"
    }
   }
  },
  {
   "cell_type": "code",
   "execution_count": null,
   "outputs": [],
   "source": [],
   "metadata": {
    "collapsed": false,
    "pycharm": {
     "name": "#%%\n"
    }
   }
  },
  {
   "cell_type": "code",
   "execution_count": null,
   "metadata": {
    "pycharm": {
     "name": "#%%\n"
    }
   },
   "outputs": [],
   "source": []
  },
  {
   "cell_type": "code",
   "execution_count": null,
   "outputs": [],
   "source": [],
   "metadata": {
    "collapsed": false,
    "pycharm": {
     "name": "#%%\n"
    }
   }
  },
  {
   "cell_type": "code",
   "execution_count": null,
   "outputs": [],
   "source": [],
   "metadata": {
    "collapsed": false,
    "pycharm": {
     "name": "#%%\n"
    }
   }
  },
  {
   "cell_type": "code",
   "execution_count": null,
   "metadata": {
    "pycharm": {
     "name": "#%%\n"
    }
   },
   "outputs": [],
   "source": []
  },
  {
   "cell_type": "code",
   "execution_count": null,
   "metadata": {
    "pycharm": {
     "name": "#%%\n"
    }
   },
   "outputs": [],
   "source": []
  },
  {
   "cell_type": "code",
   "execution_count": null,
   "metadata": {
    "pycharm": {
     "name": "#%%\n"
    }
   },
   "outputs": [],
   "source": []
  }
 ],
 "metadata": {
  "kernelspec": {
   "display_name": "Python 3",
   "language": "python",
   "name": "python3"
  },
  "language_info": {
   "codemirror_mode": {
    "name": "ipython",
    "version": 3
   },
   "file_extension": ".py",
   "mimetype": "text/x-python",
   "name": "python",
   "nbconvert_exporter": "python",
   "pygments_lexer": "ipython3",
   "version": "3.6.4"
  }
 },
 "nbformat": 4,
 "nbformat_minor": 2
}