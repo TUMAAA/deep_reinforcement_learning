{
 "cells": [
  {
   "cell_type": "markdown",
   "metadata": {},
   "source": [
    "# Collaboration and Competition\n",
    "\n",
    "---\n",
    "\n",
    "In this notebook, we use the Unity ML-Agents environment for the third project of the [Deep Reinforcement Learning Nanodegree](https://www.udacity.com/course/deep-reinforcement-learning-nanodegree--nd893) program.\n",
    "\n",
    "### 0. Get Prepared\n",
    "Follow these instructions if you are working locally (you want to setup a Jupyter Notebook locally).\n",
    " Otherwise skip to Section 1.\n",
    "\n",
    "#### 0.1 Setup the right Python version\n",
    "Use Python 3.6. You may want to either use a virtual env or setup a Conda environment as explained [here](https://github.com/udacity/deep-reinforcement-learning#dependencies)\n",
    "\n",
    "#### 0.2 Get the python dependencies requirements.txt\n",
    "Checkout the ./python folder of the Udacity DRLND repo:\n",
    "\n",
    "https://github.com/udacity/deep-reinforcement-learning\n",
    "\n",
    "It has a requirements.txt to ensure installing the necessary dependencies in the version specified by the course\n",
    "(do this only when you want to work locally). Otherwise use the reference notebook provided by the course which is pre setup properly.\n",
    "\n",
    "#### 0.3 Get the Pre-built Unity Environment\n",
    "Since this is an RL problem an environment is needed.\n",
    "The course requires you to use the pre-built environment.\n",
    "Get the right version for you from the link provided in Tennis_Linux_No_Vis/README\n",
    "\n",
    "#### 0.4 Install Dependencies\n",
    "\n",
    "Run the next code cell to install a few packages.  This line will take a few minutes to run!\n",
    "\n",
    "Make sure you have the python folder with the right requirements.txt. See Section 0.\n",
    "\n",
    "\n",
    "### 1. Start the Environment\n",
    "\n",
    "We begin by importing the necessary packages.  If the code cell below returns an error, please revisit the project instructions to double-check that you have installed [Unity ML-Agents](https://github.com/Unity-Technologies/ml-agents/blob/master/docs/Installation.md) and [NumPy](http://www.numpy.org/)."
   ]
  },
  {
   "cell_type": "code",
   "execution_count": null,
   "metadata": {},
   "outputs": [],
   "source": [
    "from unityagents import UnityEnvironment\n",
    "import numpy as np"
   ]
  },
  {
   "cell_type": "markdown",
   "metadata": {},
   "source": [
    "Next, we will start the environment!  **_Before running the code cell below_**, change the `file_name` parameter to match the location of the Unity environment that you downloaded.\n",
    "\n",
    "- **Mac**: `\"path/to/Tennis.app\"`\n",
    "- **Windows** (x86): `\"path/to/Tennis_Windows_x86/Tennis.exe\"`\n",
    "- **Windows** (x86_64): `\"path/to/Tennis_Windows_x86_64/Tennis.exe\"`\n",
    "- **Linux** (x86): `\"path/to/Tennis_Linux/Tennis.x86\"`\n",
    "- **Linux** (x86_64): `\"path/to/Tennis_Linux/Tennis.x86_64\"`\n",
    "- **Linux** (x86, headless): `\"path/to/Tennis_Linux_NoVis/Tennis.x86\"`\n",
    "- **Linux** (x86_64, headless): `\"path/to/Tennis_Linux_NoVis/Tennis.x86_64\"`\n",
    "\n",
    "For instance, if you are using a Mac, then you downloaded `Tennis.app`.  If this file is in the same folder as the notebook, then the line below should appear as follows:\n",
    "```\n",
    "env = UnityEnvironment(file_name=\"Tennis.app\")\n",
    "```"
   ]
  },
  {
   "cell_type": "code",
   "execution_count": null,
   "metadata": {},
   "outputs": [],
   "source": [
    "env = UnityEnvironment(file_name=\"Tennis_Linux_NoVis/Tennis.x86_64\")"
   ]
  },
  {
   "cell_type": "markdown",
   "metadata": {},
   "source": [
    "Environments contain **_brains_** which are responsible for deciding the actions of their associated agents. Here we check for the first brain available, and set it as the default brain we will be controlling from Python."
   ]
  },
  {
   "cell_type": "code",
   "execution_count": null,
   "metadata": {},
   "outputs": [],
   "source": [
    "# get the default brain\n",
    "brain_name = env.brain_names[0]\n",
    "brain = env.brains[brain_name]"
   ]
  },
  {
   "cell_type": "markdown",
   "metadata": {},
   "source": [
    "### 2. Examine the State and Action Spaces\n",
    "\n",
    "In this environment, two agents control rackets to bounce a ball over a net. If an agent hits the ball over the net, it receives a reward of +0.1.  If an agent lets a ball hit the ground or hits the ball out of bounds, it receives a reward of -0.01.  Thus, the goal of each agent is to keep the ball in play.\n",
    "\n",
    "The observation space consists of 8 variables corresponding to the position and velocity of the ball and racket. Two continuous actions are available, corresponding to movement toward (or away from) the net, and jumping. \n",
    "\n",
    "Run the code cell below to print some information about the environment."
   ]
  },
  {
   "cell_type": "code",
   "execution_count": null,
   "metadata": {},
   "outputs": [],
   "source": [
    "# reset the environment\n",
    "env_info = env.reset(train_mode=True)[brain_name]\n",
    "\n",
    "# number of agents \n",
    "num_agents = len(env_info.agents)\n",
    "print('Number of agents:', num_agents)\n",
    "\n",
    "# size of each action\n",
    "action_size = brain.vector_action_space_size\n",
    "print('Size of each action:', action_size)\n",
    "\n",
    "# examine the state space \n",
    "states = env_info.vector_observations\n",
    "state_size = states.shape[1]\n",
    "print('There are {} agents. Each observes a state with length: {}'.format(states.shape[0], state_size))\n",
    "print('The state for the first agent looks like:', states[0])"
   ]
  },
  {
   "cell_type": "markdown",
   "metadata": {},
   "source": [
    "### 3. Take Random Actions in the Environment\n",
    "\n",
    "In the next code cell, you will learn how to use the Python API to control the agents and receive feedback from the environment.\n",
    "\n",
    "Once this cell is executed, you will watch the agents' performance, if they select actions at random with each time step.  A window should pop up that allows you to observe the agents.\n",
    "\n",
    "Of course, as part of the project, you'll have to change the code so that the agents are able to use their experiences to gradually choose better actions when interacting with the environment!"
   ]
  },
  {
   "cell_type": "code",
   "execution_count": null,
   "metadata": {},
   "outputs": [],
   "source": [
    "for i in range(1, 6):                                      # play game for 5 episodes\n",
    "    env_info = env.reset(train_mode=False)[brain_name]     # reset the environment    \n",
    "    states = env_info.vector_observations                  # get the current state (for each agent)\n",
    "    scores = np.zeros(num_agents)                          # initialize the score (for each agent)\n",
    "    while True:\n",
    "        actions = np.random.randn(num_agents, action_size) # select an action (for each agent)\n",
    "        actions = np.clip(actions, -1, 1)                  # all actions between -1 and 1\n",
    "        env_info = env.step(actions)[brain_name]           # send all actions to tne environment\n",
    "        next_states = env_info.vector_observations         # get next state (for each agent)\n",
    "        rewards = env_info.rewards                         # get reward (for each agent)\n",
    "        dones = env_info.local_done                        # see if episode finished\n",
    "        scores += env_info.rewards                         # update the score (for each agent)\n",
    "        states = next_states                               # roll over states to next time step\n",
    "        if np.any(dones):                                  # exit loop if episode finished\n",
    "            break\n",
    "    print('Score (max over agents) from episode {}: {}'.format(i, np.max(scores)))"
   ]
  },
  {
   "cell_type": "markdown",
   "metadata": {},
   "source": [
    "When finished, you can close the environment."
   ]
  },
  {
   "cell_type": "code",
   "execution_count": null,
   "metadata": {},
   "outputs": [],
   "source": [
    "env.close()"
   ]
  },
  {
   "cell_type": "markdown",
   "metadata": {},
   "source": [
    "### 4. It's Your Turn!\n",
    "\n",
    "Now it's your turn to train your own agent to solve the environment!  When training the environment, set `train_mode=True`, so that the line for resetting the environment looks like the following:\n",
    "```python\n",
    "env_info = env.reset(train_mode=True)[brain_name]\n",
    "```"
   ]
  },
  {
   "cell_type": "code",
   "execution_count": null,
   "metadata": {
    "pycharm": {
     "name": "#%%\n"
    }
   },
   "outputs": [],
   "source": [
    "from collaboration_and_competition_project.ReplayBuffer import ReplayBuffer\n",
    "from collaboration_and_competition_project.helpers import generate_training_plots\n",
    "\n",
    "BUFFER_SIZE = int(1e5)  # replay buffer size # TODO: check value\n",
    "\n",
    "from collaboration_and_competition_project import state_size, action_size, num_agents, device\n",
    "from collaboration_and_competition_project.agent import Agent\n",
    "from collaboration_and_competition_project.maddpg import run_maddpg\n",
    "\n",
    "batch_size = 512\n",
    "\n",
    "replay_buffer = ReplayBuffer(action_size=action_size,\n",
    "                             buffer_size=BUFFER_SIZE,\n",
    "                             batch_size=batch_size,\n",
    "                             random_seed=2,\n",
    "                             num_collaborating_agents=num_agents,\n",
    "                             device=device)\n",
    "\n",
    "agent = Agent(device=device,\n",
    "              state_size=state_size, action_size=action_size, random_seed=2, num_competing_agents=num_agents,\n",
    "              num_trainings_per_update=2,\n",
    "              time_steps_before_training=5,\n",
    "              batch_size=batch_size,\n",
    "              num_episodes_to_increase_num_trainings=500,\n",
    "              lr_actor=1e-3,\n",
    "              lr_critic=1e-3,\n",
    "              clip_grad_norm=True,\n",
    "              weight_decay= 0.0001,\n",
    "              start_noise_variance = 1.0,\n",
    "              replay_buffer=replay_buffer,\n",
    "              add_samples_only_if_high_reward=False,\n",
    "              debug=False)\n",
    "\n",
    "episodes_to_make_target_equal_to_local = 200\n",
    "max_timesteps_per_episode = 500\n",
    "\n",
    "scores_global, episode_durations, episode_timestep_reached = run_maddpg(agent=agent,\n",
    "                                        n_episodes=1500,\n",
    "                                        max_t=max_timesteps_per_episode,\n",
    "                                        print_every=20,\n",
    "                                        episodes_to_make_target_equal_to_local=episodes_to_make_target_equal_to_local)\n",
    "\n",
    "details_dict = {\"critic\": agent.critics_local[0].__repr__(),\n",
    "                 \"actor\": agent.actors_local[0].__repr__(),\n",
    "                 \"critic_optim\": agent.critic_optimizers[0].__repr__().replace(\"\\n\", \", \"),\n",
    "                 \"actor_optim\": agent.actor_optimizers[0].__repr__().replace(\"\\n\", \", \"),\n",
    "                 \"clip_grad_norm\": agent.clip_grad_norm,\n",
    "                 \"batch_size\": agent.batch_size,\n",
    "                 \"max_t\": episodes_to_make_target_equal_to_local,\n",
    "                 \"time_steps_before_training\": agent.time_steps_before_training,\n",
    "                 \"num_trainings_per_update\": agent.num_trainings_per_update,\n",
    "                 \"num_episodes_to_increase_num_trainings\": agent.num_episodes_to_increase_num_trainings,\n",
    "                 \"start_noise_variance\": agent.start_noise_variance,\n",
    "                 \"noise_decay\": agent.noise_decay,\n",
    "                 \"add_samples_only_if_high_reward\": agent.add_samples_only_if_high_reward,\n",
    "                 \"episodes_to_make_target_equal_to_local\": episodes_to_make_target_equal_to_local\n",
    "                 }\n",
    "generate_training_plots(scores_global, episode_durations, episode_timestep_reached,\n",
    "                        details_dict)"
   ]
  },
  {
   "cell_type": "code",
   "execution_count": null,
   "metadata": {
    "pycharm": {
     "name": "#%%\n"
    }
   },
   "outputs": [],
   "source": []
  }
 ],
 "metadata": {
  "kernelspec": {
   "display_name": "Python 3",
   "language": "python",
   "name": "python3"
  },
  "language_info": {
   "codemirror_mode": {
    "name": "ipython",
    "version": 3
   },
   "file_extension": ".py",
   "mimetype": "text/x-python",
   "name": "python",
   "nbconvert_exporter": "python",
   "pygments_lexer": "ipython3",
   "version": "3.6.4"
  }
 },
 "nbformat": 4,
 "nbformat_minor": 2
}