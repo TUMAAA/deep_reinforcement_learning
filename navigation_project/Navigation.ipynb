{
 "cells": [
  {
   "cell_type": "markdown",
   "metadata": {},
   "source": [
    "# Navigation\n",
    "\n",
    "---\n",
    "\n",
    "### 0. Get Prepared\n",
    "Follow these instructions if you are working locally (you want to setup a Jupyter Notebook locally).\n",
    " Otherwise skip to Section 1.\n",
    "\n",
    "#### 0.1 Setup the right Python version\n",
    "Use Python 3.6. You may want to either use a virtual env or setup a Conda environment as explained here:\n",
    "\n",
    "https://github.com/udacity/deep-reinforcement-learning#dependencies\n",
    "\n",
    "#### 0.2 Get the python dependencies requirements.txt\n",
    "Checkout the ./python folder of the Udacity DRLND repo:\n",
    "\n",
    "https://github.com/udacity/deep-reinforcement-learning\n",
    "\n",
    "It has a requirements.txt to ensure installing the necessary dependencies in the version specified by the course\n",
    "(do this only when you want to work locally). Otherwise use the reference notebook provided by the course which is pre setup properly.\n",
    "\n",
    "#### 0.3 Get the Pre-built Unity Environment\n",
    "The course requires you to use the pre-built environment.\n",
    "Get the right version for you from here:\n",
    "\n",
    "https://s3-us-west-1.amazonaws.com/udacity-drlnd\n",
    "\n",
    "For e.g. to get the NoVis version for Linux use this link\n",
    "https://s3-us-west-1.amazonaws.com/udacity-drlnd/P1/Banana/Banana_Linux_NoVis.zip\n",
    "\n",
    "### 1. Start the Environment\n",
    "\n",
    "Run the next code cell to install a few packages.  This line will take a few minutes to run!\n",
    "\n",
    "Make sure you have the python folder with the right requirements.txt. See Section 0."
   ]
  },
  {
   "cell_type": "code",
   "execution_count": 1,
   "metadata": {
    "pycharm": {
     "name": "#%%\n"
    }
   },
   "outputs": [
    {
     "name": "stdout",
     "output_type": "stream",
     "text": [
      "\u001B[33m  DEPRECATION: A future pip version will change local packages to be built in-place without first copying to a temporary directory. We recommend you use --use-feature=in-tree-build to test your packages with this new behavior before it becomes the default.\r\n",
      "   pip 21.3 will remove support for this functionality. You can find discussion regarding this at https://github.com/pypa/pip/issues/7555.\u001B[0m\r\n"
     ]
    }
   ],
   "source": [
    "import os\n",
    "deps_dir=\"../../deep-reinforcement-learning/python/\"\n",
    "deps_file=deps_dir + \"/requirements.txt\"\n",
    "if os.path.exists(deps_file):\n",
    "    !pip -q install $deps_dir\n",
    "else:\n",
    "    print(\"Could not locate requirements.txt. Check section 0\")"
   ]
  },
  {
   "cell_type": "markdown",
   "metadata": {},
   "source": [
    "The environment is already saved in the Workspace and can be accessed at the file path provided below.  Please run the next code cell without making any changes."
   ]
  },
  {
   "cell_type": "code",
   "execution_count": 2,
   "metadata": {},
   "outputs": [
    {
     "name": "stderr",
     "output_type": "stream",
     "text": [
      "INFO:unityagents:\n",
      "'Academy' started successfully!\n",
      "Unity Academy name: Academy\n",
      "        Number of Brains: 1\n",
      "        Number of External Brains : 1\n",
      "        Lesson number : 0\n",
      "        Reset Parameters :\n",
      "\t\t\n",
      "Unity brain name: BananaBrain\n",
      "        Number of Visual Observations (per agent): 0\n",
      "        Vector Observation space type: continuous\n",
      "        Vector Observation space size (per agent): 37\n",
      "        Number of stacked Vector Observation: 1\n",
      "        Vector Action space type: discrete\n",
      "        Vector Action space size (per agent): 4\n",
      "        Vector Action descriptions: , , , \n"
     ]
    }
   ],
   "source": [
    "from unityagents import UnityEnvironment\n",
    "import numpy as np\n",
    "\n",
    "#IMPORTANT: The version with visualization never worked for me so I opted to use the NoVis (no visualization) version.\n",
    "env = UnityEnvironment(file_name=\"Banana_Linux_NoVis/Banana.x86_64\")"
   ]
  },
  {
   "cell_type": "markdown",
   "metadata": {},
   "source": [
    "Environments contain **_brains_** which are responsible for deciding the actions of their associated agents. Here we check for the first brain available, and set it as the default brain we will be controlling from Python."
   ]
  },
  {
   "cell_type": "code",
   "execution_count": 3,
   "metadata": {},
   "outputs": [],
   "source": [
    "# get the default brain\n",
    "brain_name = env.brain_names[0]\n",
    "brain = env.brains[brain_name]"
   ]
  },
  {
   "cell_type": "markdown",
   "metadata": {},
   "source": [
    "### 2. Examine the State and Action Spaces\n",
    "\n",
    "Run the code cell below to print some information about the environment."
   ]
  },
  {
   "cell_type": "code",
   "execution_count": 4,
   "metadata": {},
   "outputs": [
    {
     "name": "stdout",
     "output_type": "stream",
     "text": [
      "Number of agents: 1\n",
      "Number of actions: 4\n",
      "States look like: [1.         0.         0.         0.         0.84408134 0.\n",
      " 0.         1.         0.         0.0748472  0.         1.\n",
      " 0.         0.         0.25755    1.         0.         0.\n",
      " 0.         0.74177343 0.         1.         0.         0.\n",
      " 0.25854847 0.         0.         1.         0.         0.09355672\n",
      " 0.         1.         0.         0.         0.31969345 0.\n",
      " 0.        ]\n",
      "States have length: 37\n"
     ]
    }
   ],
   "source": [
    "# reset the environment\n",
    "env_info = env.reset(train_mode=True)[brain_name]\n",
    "\n",
    "# number of agents in the environment\n",
    "print('Number of agents:', len(env_info.agents))\n",
    "\n",
    "# number of actions\n",
    "action_size = brain.vector_action_space_size\n",
    "print('Number of actions:', action_size)\n",
    "\n",
    "# examine the state space \n",
    "state = env_info.vector_observations[0]\n",
    "print('States look like:', state)\n",
    "state_size = len(state)\n",
    "print('States have length:', state_size)"
   ]
  },
  {
   "cell_type": "markdown",
   "metadata": {},
   "source": [
    "### 3. Take Random Actions in the Environment\n",
    "\n",
    "<span style=\"color:red\">WARNING: DON'T EXECUTE THIS CELL IF YOU WILL ACTUALLY USE THE ENV FOR TRAINING BELOW. The provided unity env is buggy and training simply fails. You would need to restart the Kernel.</span>.\n",
    "\n",
    "In the next code cell, you will learn how to use the Python API to control the agent and receive feedback from the environment.\n",
    "\n",
    "Note that **in this coding environment, you will not be able to watch the agent while it is training**, and you should set `train_mode=True` to restart the environment."
   ]
  },
  {
   "cell_type": "code",
   "execution_count": null,
   "metadata": {},
   "outputs": [],
   "source": [
    "print(\"resetting environment\")\n",
    "env_info = env.reset(train_mode=False)[brain_name] # reset the environment\n",
    "state = env_info.vector_observations[0]            # get the current state\n",
    "print(\"getting initial state\")\n",
    "score = 0                                          # initialize the score\n",
    "index=0\n",
    "while True:\n",
    "    print(f\"step: {index}\", end='\\r')\n",
    "    action = np.random.randint(action_size)        # select an action\n",
    "    env_info = env.step(action)[brain_name]        # send the action to the environment\n",
    "    next_state = env_info.vector_observations[0]   # get the next state\n",
    "    reward = env_info.rewards[0]                   # get the reward\n",
    "    done = env_info.local_done[0]                  # see if episode has finished\n",
    "    score += reward                                # update the score\n",
    "    state = next_state                             # roll over the state to next time step\n",
    "    index += 1\n",
    "    if done:                                       # exit loop if episode finished\n",
    "        break\n",
    "    \n",
    "print(\"Score: {}\".format(score))"
   ]
  },
  {
   "cell_type": "markdown",
   "metadata": {},
   "source": [
    "### 4. Training a Smart Agent\n",
    "\n",
    "Now it's your turn to train your own agent to solve the environment!  A few **important notes**:\n",
    "- When training the environment, set `train_mode=True`, so that the line for resetting the environment looks like the following:\n",
    "```python\n",
    "env_info = env.reset(train_mode=True)[brain_name]\n",
    "```\n",
    "- If you use the Udacity Jupyter notebook, you will not be able to watch the agent while it is training.  However, **_after training the agent_**, you can download the saved model weights to watch the agent on your own machine!\n",
    "In that case make sure you don't use the NoVis environment locally"
   ]
  },
  {
   "cell_type": "code",
   "execution_count": 5,
   "metadata": {},
   "outputs": [],
   "source": [
    "import time\n",
    "import torch\n",
    "\n",
    "def dqn(agent,n_episodes=2000, max_t=1000, eps_start=1.0, eps_end=0.01, eps_decay=0.995):\n",
    "\n",
    "    \"\"\"Deep Q-Learning.\n",
    "    \n",
    "    Params\n",
    "    ======\n",
    "        n_episodes (int): maximum number of training episodes\n",
    "        max_t (int): maximum number of timesteps per episode\n",
    "        eps_start (float): starting value of epsilon, for epsilon-greedy action selection\n",
    "        eps_end (float): minimum value of epsilon\n",
    "        eps_decay (float): multiplicative factor (per episode) for decreasing epsilon\n",
    "    \"\"\"\n",
    "    \n",
    "    scores = []                        # list containing scores from each episode\n",
    "    scores_window = deque(maxlen=100)  # last 100 scores\n",
    "    eps = eps_start                    # initialize epsilon\n",
    "    for i_episode in range(1, n_episodes+1):\n",
    "        env_info = env.reset(train_mode=True)[brain_name]\n",
    "        state = env_info.vector_observations[0]\n",
    "        score = 0\n",
    "        for t in range(max_t):\n",
    "            action = agent.act(state, eps)\n",
    "            env_info = env.step(action)[brain_name]        # send the action to the environment\n",
    "            next_state = env_info.vector_observations[0]   # get the next state\n",
    "            reward = env_info.rewards[0]                   # get the reward\n",
    "            done = env_info.local_done[0]                  # see if episode has finished\n",
    "            agent.step(state.astype(np.float32), action, reward, next_state.astype(np.float32), done)\n",
    "            state = next_state\n",
    "            score += reward\n",
    "            if done:\n",
    "                break \n",
    "        scores_window.append(score)       # save most recent score\n",
    "        scores.append(score)              # save most recent score\n",
    "        eps = max(eps_end, eps_decay*eps) # decrease epsilon\n",
    "        print('\\rEpisode {}\\tAverage Score: {:.2f}'.format(i_episode, np.mean(scores_window)), end=\"\")\n",
    "        if i_episode % 100 == 0:\n",
    "            print('\\rEpisode {}\\tAverage Score: {:.2f}'.format(i_episode, np.mean(scores_window)))\n",
    "        if np.mean(scores_window)>=13.0:\n",
    "            print('\\nEnvironment solved in {:d} episodes!\\tAverage Score: {:.2f}'.format(i_episode-100, np.mean(scores_window)))\n",
    "            torch.save(agent.qnetwork_local.state_dict(), \"trained_models/\" + \"checkpoint_dropout_p{}_hiddenlayers{}.pth\".format(agent.qnetwork_local.drop_p,agent.qnetwork_local.hidden_layers_config))\n",
    "            break\n",
    "    return scores\n",
    "\n",
    "def plot_scores(scores, axis_handle=None, label=\"\"):\n",
    "    # plot the scores\n",
    "    if axis_handle is None:\n",
    "        f, axis_handle = plt.subplots()\n",
    "    axis_handle.plot(np.arange(len(scores)), scores,label=label)\n",
    "    plt.ylabel('Score')\n",
    "    plt.xlabel('Episode #')\n",
    "    plt.legend()\n",
    "    return axis_handle\n"
   ]
  },
  {
   "cell_type": "code",
   "execution_count": 6,
   "metadata": {},
   "outputs": [
    {
     "name": "stdout",
     "output_type": "stream",
     "text": [
      "found device: cpu\n",
      "--------------\n",
      "Trying out dropout_probab 0.0 and hidden_layers [64, 64]\n",
      "Initializing model:state_size: 37, action_size: 4, hidden_layers_config: [64, 64], xavier_init: False\n",
      "Initializing model:state_size: 37, action_size: 4, hidden_layers_config: [64, 64], xavier_init: False\n",
      "Device to be used: cpu\n",
      "Episode 100\tAverage Score: 1.14\n",
      "Episode 200\tAverage Score: 4.22\n",
      "Episode 300\tAverage Score: 7.61\n",
      "Episode 400\tAverage Score: 10.08\n",
      "Episode 482\tAverage Score: 13.04\n",
      "Environment solved in 382 episodes!\tAverage Score: 13.04\n",
      "--------------\n",
      "Trying out dropout_probab 0.3 and hidden_layers [64, 64]\n",
      "Initializing model:state_size: 37, action_size: 4, hidden_layers_config: [64, 64], xavier_init: False\n",
      "Initializing model:state_size: 37, action_size: 4, hidden_layers_config: [64, 64], xavier_init: False\n",
      "Device to be used: cpu\n",
      "Episode 100\tAverage Score: 0.72\n",
      "Episode 200\tAverage Score: 4.59\n",
      "Episode 300\tAverage Score: 7.26\n",
      "Episode 400\tAverage Score: 10.64\n",
      "Episode 500\tAverage Score: 12.83\n",
      "Episode 505\tAverage Score: 13.03\n",
      "Environment solved in 405 episodes!\tAverage Score: 13.03\n",
      "--------------\n",
      "Trying out dropout_probab 0.0 and hidden_layers [64, 64, 64]\n",
      "Initializing model:state_size: 37, action_size: 4, hidden_layers_config: [64, 64, 64], xavier_init: False\n",
      "Initializing model:state_size: 37, action_size: 4, hidden_layers_config: [64, 64, 64], xavier_init: False\n",
      "Device to be used: cpu\n",
      "Episode 100\tAverage Score: 0.71\n",
      "Episode 200\tAverage Score: 4.00\n",
      "Episode 300\tAverage Score: 8.15\n",
      "Episode 400\tAverage Score: 10.99\n",
      "Episode 462\tAverage Score: 13.01\n",
      "Environment solved in 362 episodes!\tAverage Score: 13.01\n",
      "--------------\n",
      "Trying out dropout_probab 0.0 and hidden_layers [64, 64, 64]\n",
      "Initializing model:state_size: 37, action_size: 4, hidden_layers_config: [64, 64, 64], xavier_init: False\n",
      "Initializing model:state_size: 37, action_size: 4, hidden_layers_config: [64, 64, 64], xavier_init: False\n",
      "Device to be used: cpu\n",
      "Using duelling networks\n",
      "Episode 100\tAverage Score: 0.59\n",
      "Episode 200\tAverage Score: 3.47\n",
      "Episode 300\tAverage Score: 7.44\n",
      "Episode 400\tAverage Score: 10.19\n",
      "Episode 500\tAverage Score: 12.97\n",
      "Episode 504\tAverage Score: 13.02\n",
      "Environment solved in 404 episodes!\tAverage Score: 13.02\n",
      "--------------\n",
      "Trying out dropout_probab 0.0 and hidden_layers [32, 64, 32]\n",
      "Initializing model:state_size: 37, action_size: 4, hidden_layers_config: [32, 64, 32], xavier_init: False\n",
      "Initializing model:state_size: 37, action_size: 4, hidden_layers_config: [32, 64, 32], xavier_init: False\n",
      "Device to be used: cpu\n",
      "Episode 100\tAverage Score: 0.50\n",
      "Episode 200\tAverage Score: 3.20\n",
      "Episode 300\tAverage Score: 6.37\n",
      "Episode 400\tAverage Score: 9.21\n",
      "Episode 496\tAverage Score: 13.07\n",
      "Environment solved in 396 episodes!\tAverage Score: 13.07\n"
     ]
    },
    {
     "data": {
      "text/plain": "<Figure size 432x288 with 1 Axes>",
      "image/png": "[encoded data removed]"
     },
     "metadata": {
      "needs_background": "light"
     },
     "output_type": "display_data"
    }
   ],
   "source": [
    "from collections import deque\n",
    "import matplotlib.pyplot as plt\n",
    "%matplotlib inline\n",
    "\n",
    "from dqn_agent_navigation_project import Agent\n",
    "#env = UnityEnvironment(file_name=\"/data/Banana_Linux_NoVis/Banana.x86_64\")\n",
    "#env_info = env.reset(train_mode=True)[brain_name]\n",
    "\n",
    "agents_params=[\n",
    "    (0.0, [64,64],False),\n",
    "    (0.3, [64,64], False),\n",
    "    (0.0,[64,64,64], False),\n",
    "    (0.0,[64,64,64], True),\n",
    "    (0.0,[32,64,32], False)\n",
    "]\n",
    "\n",
    "axis_handle=None\n",
    "for agent_params in agents_params:\n",
    "    print(\"--------------\\nTrying out dropout_probab {} and hidden_layers {}\".format(agent_params[0],agent_params[1]))\n",
    "    agent = Agent(state_size=37, action_size=4, seed=0,drop_p=agent_params[0],hidden_layers_config=agent_params[1],\n",
    "                  duelling_networks=agent_params[2],\n",
    "                  priority_experience=False)\n",
    "    scores = dqn(agent=agent)\n",
    "    axis_handle=plot_scores(scores,axis_handle,label=str(agent_params))"
   ]
  },
  {
   "cell_type": "markdown",
   "metadata": {},
   "source": [
    "### 5. Shutting Down\n",
    "When finished, you can close the environment.\n",
    "\n",
    "<span style=\"color:red\">WARNING: Do this only if you are really done. You can't reopen the env unless you restart the Kernel due to buggy unity env :( </span>."
   ]
  },
  {
   "cell_type": "code",
   "execution_count": 8,
   "metadata": {
    "pycharm": {
     "name": "#%%\n"
    }
   },
   "outputs": [],
   "source": [
    "env.close() # Ensuring the environment is not closed so that training can commence"
   ]
  },
  {
   "cell_type": "code",
   "execution_count": null,
   "outputs": [],
   "source": [],
   "metadata": {
    "collapsed": false,
    "pycharm": {
     "name": "#%%\n"
    }
   }
  }
 ],
 "metadata": {
  "kernelspec": {
   "display_name": "Python 3",
   "language": "python",
   "name": "python3"
  },
  "language_info": {
   "codemirror_mode": {
    "name": "ipython",
    "version": 3
   },
   "file_extension": ".py",
   "mimetype": "text/x-python",
   "name": "python",
   "nbconvert_exporter": "python",
   "pygments_lexer": "ipython3",
   "version": "3.6.3"
  }
 },
 "nbformat": 4,
 "nbformat_minor": 2
}